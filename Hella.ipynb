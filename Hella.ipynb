{
  "nbformat": 4,
  "nbformat_minor": 0,
  "metadata": {
    "colab": {
      "provenance": [],
      "authorship_tag": "ABX9TyNgObE2monTpYVLExvFMT/N",
      "include_colab_link": true
    },
    "kernelspec": {
      "name": "python3",
      "display_name": "Python 3"
    },
    "language_info": {
      "name": "python"
    }
  },
  "cells": [
    {
      "cell_type": "markdown",
      "metadata": {
        "id": "view-in-github",
        "colab_type": "text"
      },
      "source": [
        "<a href=\"https://colab.research.google.com/github/Bogula/GPT/blob/main/Hella.ipynb\" target=\"_parent\"><img src=\"https://colab.research.google.com/assets/colab-badge.svg\" alt=\"Open In Colab\"/></a>"
      ]
    },
    {
      "cell_type": "code",
      "source": [],
      "metadata": {
        "id": "mn_HZ30fdPg9"
      },
      "execution_count": null,
      "outputs": []
    },
    {
      "cell_type": "code",
      "execution_count": null,
      "metadata": {
        "id": "nsH_2ZVxju0S"
      },
      "outputs": [],
      "source": [
        "!pip install openai -q\n",
        "!pip install langchain -q\n",
        "!pip install chromadb -q\n",
        "!pip install tiktoken -q\n",
        "!pip install pypdf -q"
      ]
    },
    {
      "cell_type": "code",
      "source": [
        "import pandas as pd\n",
        "import os\n",
        "os.environ[\"OPENAI_API_KEY\"] = \"YOUR KEY\""
      ],
      "metadata": {
        "id": "t41Y3suikdSg"
      },
      "execution_count": null,
      "outputs": []
    },
    {
      "cell_type": "code",
      "source": [
        "df = pd.read_csv('tickets.csv', sep=\";\")"
      ],
      "metadata": {
        "id": "ANKy67m6kkLe"
      },
      "execution_count": null,
      "outputs": []
    },
    {
      "cell_type": "code",
      "source": [
        "df"
      ],
      "metadata": {
        "id": "81rF6ITxlafJ"
      },
      "execution_count": null,
      "outputs": []
    },
    {
      "cell_type": "code",
      "source": [
        "#Simple GPT3 Use\n",
        "import os\n",
        "import openai\n",
        "\n",
        "openai.api_key = os.getenv(\"OPENAI_API_KEY\")\n",
        "\n",
        "response = openai.Completion.create(\n",
        "  model=\"text-davinci-003\",\n",
        "  prompt=\"Welches Bauteil könnte bei folgendem Text potenziell defekt sein?\\n\\nHallo dieses fahrzeug hat im 1 und 2 Gang keine Leistung. Dann ab ca. 3000 Umdrehungen ist die Leistung da. Keine Fehler hinterlegt.Ladedruck Sollwert 1000mbar Ist wert ca.400mbar wenn keine leistung da ist.Wenn Leistung da ist ca. 800mbar. Turboladerwelle leichtgänging und ohne spiel.Turbolader gestänge auch leichtgänig. mfg.\\n\\n\\n\\n\",\n",
        "  temperature=0.31,\n",
        "  max_tokens=256,\n",
        "  top_p=1,\n",
        "  frequency_penalty=0,\n",
        "  presence_penalty=0\n",
        ")"
      ],
      "metadata": {
        "id": "8_KOczZksxo9"
      },
      "execution_count": null,
      "outputs": []
    },
    {
      "cell_type": "code",
      "source": [
        "print(response)"
      ],
      "metadata": {
        "colab": {
          "base_uri": "https://localhost:8080/"
        },
        "id": "0SzLGb4e0swB",
        "outputId": "c4145900-2807-41f4-bcb4-4482d7c48aef"
      },
      "execution_count": null,
      "outputs": [
        {
          "output_type": "stream",
          "name": "stdout",
          "text": [
            "{\n",
            "  \"choices\": [\n",
            "    {\n",
            "      \"finish_reason\": \"stop\",\n",
            "      \"index\": 0,\n",
            "      \"logprobs\": null,\n",
            "      \"text\": \"\\n\\nDer Turbolader k\\u00f6nnte defekt sein.\"\n",
            "    }\n",
            "  ],\n",
            "  \"created\": 1683808763,\n",
            "  \"id\": \"cmpl-7EzrnsrTUPDVjRRqaqlqTONrDEQHR\",\n",
            "  \"model\": \"text-davinci-003\",\n",
            "  \"object\": \"text_completion\",\n",
            "  \"usage\": {\n",
            "    \"completion_tokens\": 16,\n",
            "    \"prompt_tokens\": 160,\n",
            "    \"total_tokens\": 176\n",
            "  }\n",
            "}\n"
          ]
        }
      ]
    },
    {
      "cell_type": "code",
      "source": [
        "#Langchain als Knowledge-Base\n",
        "from langchain.document_loaders import TextLoader\n",
        "\n",
        "loader = TextLoader(\"tickets.csv\")\n"
      ],
      "metadata": {
        "id": "BJkWjfk3pOZn"
      },
      "execution_count": null,
      "outputs": []
    },
    {
      "cell_type": "code",
      "source": [
        "#Erstellen des Vectorspaces\n",
        "from langchain.indexes import VectorstoreIndexCreator\n",
        "index = VectorstoreIndexCreator().from_loaders([loader])"
      ],
      "metadata": {
        "colab": {
          "base_uri": "https://localhost:8080/"
        },
        "id": "fAOgjLGApOlM",
        "outputId": "18ddf1ef-c1ab-45c7-f239-f73639719955"
      },
      "execution_count": null,
      "outputs": [
        {
          "output_type": "stream",
          "name": "stderr",
          "text": [
            "WARNING:chromadb:Using embedded DuckDB without persistence: data will be transient\n"
          ]
        }
      ]
    },
    {
      "cell_type": "code",
      "source": [
        "#Query gegen die Knowledge Base\n",
        "query = \"problem ist: FC p0335 KW Sensor Signal fehlerhaft,  FC p0100 LMM Funktion fehlerhaft, FC p0340 NW Sensor Signal fehlerhaft. Antworte auf Deutsch\"\n",
        "query = \"Problem bei Seicento Benziner ist: springt manchmal nicht an. canbus funktion fehlerhaft, codeanforderung nicht vorhanden aus der WFS. Was kann eine Lösung sein. Eventuelle Alternative Lösung? Antworte auf Deutsch\"\n",
        "index.query_with_sources(query)"
      ],
      "metadata": {
        "colab": {
          "base_uri": "https://localhost:8080/"
        },
        "id": "2ANvv0vTtWle",
        "outputId": "f2d44e6a-ee72-4b20-9558-58a869a19f13"
      },
      "execution_count": null,
      "outputs": [
        {
          "output_type": "execute_result",
          "data": {
            "text/plain": [
              "{'question': 'Problem bei Seicento Benziner ist: springt manchmal nicht an. canbus funktion fehlerhaft, codeanforderung nicht vorhanden aus der WFS. Was kann eine Lösung sein. Eventuelle Alternative Lösung? Antworte auf Deutsch',\n",
              " 'answer': ' Eine mögliche Lösung für das Problem beim Seicento Benziner könnte der Kurbelwellensensor sein. Eine alternative Lösung könnte der Nockenwellensensor sein.\\n',\n",
              " 'sources': 'data/tickets.csv'}"
            ]
          },
          "metadata": {},
          "execution_count": 63
        }
      ]
    },
    {
      "cell_type": "markdown",
      "source": [
        "Split docs\n",
        "```\n",
        "\n"
      ],
      "metadata": {
        "id": "dEC7pdLmvii9"
      }
    },
    {
      "cell_type": "markdown",
      "source": [
        "Use Semantic Search with CSV, line by line\n"
      ],
      "metadata": {
        "id": "3cAa2WTaviqo"
      }
    },
    {
      "cell_type": "code",
      "source": [
        "!pip install unstructured\n",
        "!pip install pdf2image\n",
        "!pip install pytesseract"
      ],
      "metadata": {
        "id": "gbvie-xpwBr_"
      },
      "execution_count": null,
      "outputs": []
    },
    {
      "cell_type": "code",
      "source": [
        "# Data Ingestion\n",
        "\n",
        "from langchain.document_loaders.csv_loader import CSVLoader\n",
        "\n",
        "loader = CSVLoader(file_path='/content/data/tickets.csv', csv_args={'delimiter': ';'})\n",
        "\n",
        "#data = loader.load()\n",
        "\n",
        "\n",
        "#for line in data:\n",
        "# print(line)\n",
        "\n",
        "documents = loader.load()\n"
      ],
      "metadata": {
        "id": "k_IFMeWQvi8Q"
      },
      "execution_count": null,
      "outputs": []
    },
    {
      "cell_type": "code",
      "source": [
        "print(f\"Total number of documents: {len(documents)}\")"
      ],
      "metadata": {
        "colab": {
          "base_uri": "https://localhost:8080/"
        },
        "id": "JSfPRkSwvmqP",
        "outputId": "9b34e0a2-d666-4746-ca4a-77911a724b56"
      },
      "execution_count": null,
      "outputs": [
        {
          "output_type": "stream",
          "name": "stdout",
          "text": [
            "Total number of documents: 1000\n"
          ]
        }
      ]
    },
    {
      "cell_type": "code",
      "source": [
        "#Use Langchain Retrieval with Chat\n",
        "from langchain.embeddings.openai import OpenAIEmbeddings\n",
        "from langchain.vectorstores import Chroma\n",
        "from langchain.text_splitter import CharacterTextSplitter\n",
        "from langchain.text_splitter import RecursiveCharacterTextSplitter\n",
        "\n",
        "from langchain.chains import ConversationalRetrievalChain"
      ],
      "metadata": {
        "id": "AAZXnwZUxBGi"
      },
      "execution_count": null,
      "outputs": []
    },
    {
      "cell_type": "code",
      "source": [
        "from langchain.chat_models import ChatOpenAI\n",
        "llm = ChatOpenAI(temperature=0,model_name=\"gpt-3.5-turbo\")\n",
        "text_splitter = RecursiveCharacterTextSplitter(chunk_size=1000, chunk_overlap=0, separators=[\";\",\" \", \",\", \"\\n\"])\n",
        "\n",
        "\n",
        "documents = text_splitter.split_documents(documents)\n",
        "\n",
        "embeddings = OpenAIEmbeddings()\n",
        "\n",
        "vectorstore = Chroma.from_documents(documents, embeddings)\n",
        "\n",
        "# Initialise Langchain - Conversation Retrieval Chain\n",
        "qa = ConversationalRetrievalChain.from_llm(ChatOpenAI(temperature=0), vectorstore.as_retriever())\n",
        "\n"
      ],
      "metadata": {
        "colab": {
          "base_uri": "https://localhost:8080/"
        },
        "id": "sPFQgM-Yw4qy",
        "outputId": "fdcf4eda-8577-4b62-ded2-505bebf1013c"
      },
      "execution_count": null,
      "outputs": [
        {
          "output_type": "stream",
          "name": "stderr",
          "text": [
            "WARNING:chromadb:Using embedded DuckDB without persistence: data will be transient\n"
          ]
        }
      ]
    },
    {
      "cell_type": "code",
      "source": [
        "import textwrap\n",
        "user_message=\"What is important if I have to terminate a contract?\"\n",
        "history = []\n",
        "chat_history = []\n",
        "\n",
        "while True:\n",
        "    user_message = input(\"Problem: \")\n",
        "\n",
        "    if user_message == \"stop\":\n",
        "        break\n",
        "    response = qa({\"question\": user_message + \"Was könnte die Lösung sein, auf Deutsch\", \"chat_history\": history})\n",
        "    history.append((user_message, response[\"answer\"]))\n",
        "    print(textwrap.fill(response[\"answer\"], width=80))\n",
        "    print(\"\")"
      ],
      "metadata": {
        "id": "beoTn0ST-Yfg"
      },
      "execution_count": null,
      "outputs": []
    },
    {
      "cell_type": "code",
      "source": [
        "#Einfache semantische Suche ohne Chat mit Rückgabe der Antwortkandidaten\n",
        "docsearch = Chroma.from_documents(documents, embeddings, metadatas=[{\"source\": str(i)} for i in range(len(documents))])"
      ],
      "metadata": {
        "colab": {
          "base_uri": "https://localhost:8080/"
        },
        "id": "xVCc1L1xxOGF",
        "outputId": "268487a6-c5a0-4e15-9549-207fec6cd6fa"
      },
      "execution_count": null,
      "outputs": [
        {
          "output_type": "stream",
          "name": "stderr",
          "text": [
            "WARNING:chromadb:Using embedded DuckDB without persistence: data will be transient\n"
          ]
        }
      ]
    },
    {
      "cell_type": "code",
      "source": [
        "query = \"Fiat Seicento, NW aus, Sensor keine Daten\"\n",
        "docs = docsearch.similarity_search(query)"
      ],
      "metadata": {
        "id": "mQdv5rH2xQXF"
      },
      "execution_count": null,
      "outputs": []
    },
    {
      "cell_type": "code",
      "source": [
        "docs"
      ],
      "metadata": {
        "colab": {
          "base_uri": "https://localhost:8080/"
        },
        "id": "Q8rG5yvOxfSa",
        "outputId": "c3d0d789-8f97-4579-a113-364bc5c396e7"
      },
      "execution_count": null,
      "outputs": [
        {
          "output_type": "execute_result",
          "data": {
            "text/plain": [
              "[Document(page_content='\\ufeffmanufacturer: Fiat\\nmodelseries: Seicento (187)\\nmodeltyp: Seicento 1.1i Sporting\\nshort_name: 187\\nengine_code: 187 A1.000\\nfuel_type: B\\ncomponent_name: Kurbelwellensensor\\nproblem: Schlüssellampe für WFS ist beim Start aus----------------------\\nfzg springt sporadisch nicht an-\\nFC: 4 systemspannung spannung stromversorgung fehlerhaft , 2 schlüssel funktion fehlerhaft- nicht vorhanden , 3 canbus funktion fehlerhaft, codeanforderung nicht vorhanden- aus der WFS\\nsolution: KW Sensor und Kraftstoffdruck', metadata={'source': '/content/data/tickets.csv', 'row': 33}),\n",
              " Document(page_content='\\ufeffmanufacturer: Fiat\\nmodelseries: Ducato-V (250)\\nmodeltyp: Ducato 100 2.2 16V JTD\\nshort_name: 250\\nengine_code: 4HV (P22DTE)\\nfuel_type: D\\ncomponent_name: Nockenwellensensor\\nproblem: .. Bitte nochmal RR..\\nFZ fährt gut aber plötzlich knattert es als wenn der Motor kaputt gehen würde, \\nMotorkontrolleuchten gehen an\\naus motor, \\nFC P 0401 FC P 0641, FC P 0103, FC P 0340,\\nKunde nicht erreicht \\nAGR- VEntil wurde erneuert.\\nsolution: NW Sensor ers \\nHat keine Klima  \\nAGR SW bei Fiat', metadata={'source': '/content/data/tickets.csv', 'row': 552}),\n",
              " Document(page_content='\\ufeffmanufacturer: Fiat\\nmodelseries: Stilo (192)\\nmodeltyp: Stilo 1.6i 16V Station Wagon\\nshort_name: 192\\nengine_code: 182 B6.000\\nfuel_type: B\\ncomponent_name: Nockenwellensensor\\nproblem: FC: Nockenwellenposstionssensor, aus Motor.\\nMotor läuft unrund.\\nsolution: drucksensor mal abstecken und prüfen ob der nockenwellensensor weg bleibt beim  starten', metadata={'source': '/content/data/tickets.csv', 'row': 151}),\n",
              " Document(page_content='\\ufeffmanufacturer: Seat\\nmodelseries: Altea\\nmodeltyp: Altea 1.6i\\nshort_name: 5P\\nengine_code: BSE\\nfuel_type: B\\ncomponent_name: Nockenwellensensor\\nproblem: --bitte unter Handy-Nr. anrufen, Festnetz ausgefallen---\\nFC: 16725 NW-Sensor Signal fehlerhaft, aus Motor.\\nFz ist bei der Inspektion.\\nsolution: Verkabelung prüfen ggf G40 ers', metadata={'source': '/content/data/tickets.csv', 'row': 295})]"
            ]
          },
          "metadata": {},
          "execution_count": 73
        }
      ]
    },
    {
      "cell_type": "code",
      "source": [
        "for i in range(len(docs)):\n",
        "  print (docs[i])"
      ],
      "metadata": {
        "colab": {
          "base_uri": "https://localhost:8080/"
        },
        "id": "95lUQEZcxu5U",
        "outputId": "214969f2-42d3-49fe-88f9-85a56fc5d2f7"
      },
      "execution_count": null,
      "outputs": [
        {
          "output_type": "stream",
          "name": "stdout",
          "text": [
            "page_content='\\ufeffmanufacturer: Audi\\nmodelseries: A6\\nmodeltyp: A6 2.4i V6 30V\\nshort_name: 4F\\nengine_code: BDW\\nfuel_type: B\\ncomponent_name: Nockenwellensensor\\nproblem: FC P0341 NW-Sensor Signal fehlerhaft,  Fehler ist permanent,  \\nFC P0172 Gemisch Bank 1 Gemisch zu fett,  aus Motorstg. \\nNW-Sensor bereits erneuert,   Mil geht an,\\nsolution: Kein Kettenrasseln \\nNWsensor neu \\nhatte auch schon verbrennungsaussetzer aus 1,2,3\\nNW sensor und Verstellung prüfen \\nKat????' metadata={'source': '/content/data/tickets.csv', 'row': 627}\n",
            "page_content='\\ufeffmanufacturer: Audi\\nmodelseries: A4\\nmodeltyp: A4 1.8i 16V TFSI Avant\\nshort_name: 8K\\nengine_code: CDHB\\nfuel_type: B\\ncomponent_name: Nockenwellensensor\\nproblem: Fahrzeug hat eine neue steuerkette bekommen und der zylinderkopf wurde überholt neue ventile etc. \\n5531 NOCKENWELLENSENSOR 1 / SIGNAL ZU HOCH\\n2980 Variables Saugrohr Bank 1 Rückmeldung\\nsolution: Verkabelung NWsensor prüfen \\nSaugrohrklappen GE durchführen \\nEmail SLP Motor' metadata={'source': '/content/data/tickets.csv', 'row': 882}\n",
            "page_content='\\ufeffmanufacturer: Audi\\nmodelseries: A4\\nmodeltyp: A4 2.0i 20V Avant\\nshort_name: 8E\\nengine_code: ALT\\nfuel_type: B\\ncomponent_name: Nockenwellensensor\\nproblem: Laut Parameter ist kein KW- Signal vorhanden.\\nBenötigt einen Stromlaufplkan für den KW- Sensor.\\nsolution: hat sich erledigt' metadata={'source': '/content/data/tickets.csv', 'row': 920}\n",
            "page_content='\\ufeffmanufacturer: Audi\\nmodelseries: A3\\nmodeltyp: A3 1.6i 8V\\nshort_name: 8L\\nengine_code: AEH\\nfuel_type: B\\ncomponent_name: Kurbelwellensensor\\nproblem: FZG geht immer wieder aus, Motor Stg. FC 515= Hallsensor, Funktion fehlerhaft\\nsolution: NW/KW sensor prüfen, Kabeln prüfen, Steuerzeiten prüfen' metadata={'source': '/content/data/tickets.csv', 'row': 56}\n"
          ]
        }
      ]
    },
    {
      "cell_type": "code",
      "source": [
        "from langchain.chains.qa_with_sources import load_qa_with_sources_chain\n",
        "from langchain.llms import OpenAI\n",
        "chain = load_qa_with_sources_chain(OpenAI(temperature=0), chain_type=\"stuff\")\n",
        "query = \"Was könnte bei folgendem Auto Audi A3, mit dem Problem Hallsensor und Auto geht aus die Lösung sein. Antwort auf Deutsch\"\n",
        "#query = \"Problem: FZG  im 1 und 2 Gang keine Leistung. Dann ab ca. 3000 Umdrehungen ist die Leistung da. Keine Fehler hinterlegt.Ladedruck Sollwert 1000mbar Ist wert ca.400mbar wenn keine leistung da ist.Wenn Leistung da ist ca. 800mbar. Turboladerwelle leichtgänging und ohne spiel.Turbolader gestänge auch leichtgänig. Was könnte die Lösung sein? query = \" canbus funktion fehlerhaft, codeanforderung nicht vorhanden- aus der WFS\"\n",
        "chain({\"input_documents\": docs, \"question\": query}, return_only_outputs=True)"
      ],
      "metadata": {
        "colab": {
          "base_uri": "https://localhost:8080/"
        },
        "id": "oBg-Fzl3x4iR",
        "outputId": "51a8e36e-419f-4e1c-d9f5-0ecc478dc1e6"
      },
      "execution_count": null,
      "outputs": [
        {
          "output_type": "execute_result",
          "data": {
            "text/plain": [
              "{'output_text': ' Bei dem Auto Audi A3 könnte die Lösung für das Problem Hallsensor und Auto geht aus der Austausch des Hallsensors sein.\\nSOURCES: /content/data/tickets.csv'}"
            ]
          },
          "metadata": {},
          "execution_count": 74
        }
      ]
    },
    {
      "cell_type": "code",
      "source": [
        "#Probability der Kandidaten für das nächste Token\n",
        "import openai\n",
        "\n",
        "# Set up your OpenAI API credentials\n",
        "openai.api_key = os.getenv(\"OPENAI_API_KEY\")\n",
        "\n",
        "# Define your input text\n",
        "input_text = 'Once upon a time'\n",
        "\n",
        "# Generate the probability distribution\n",
        "response = openai.Completion.create(\n",
        "  engine='text-davinci-003',  # Specify the GPT-3 model variant\n",
        "  prompt=input_text,\n",
        "  temperature=0.0,  # Set temperature to 0 for deterministic output\n",
        "  max_tokens=1,  # Predict a single token\n",
        "  n=1,  # Generate a single completion\n",
        "  stop=None,  # Continue generating until max_tokens limit is reached\n",
        "  logprobs=5,  # Request log probabilities\n",
        ")\n",
        "\n",
        "# Extract the log probabilities and convert them to a probability distribution\n",
        "logprobs = response.choices[0].logprobs\n",
        "\n",
        "print(logprobs)\n",
        "\n",
        "#probabilities = [lp for lp in logprobs.token_logprobs[0]]\n",
        "\n",
        "# Display the predicted words and their probabilities\n",
        "#predicted_words = logprobs.tokens[1:]\n",
        "#for word, prob in zip(predicted_words, probabilities):\n",
        "#    print(f'Word: {word}, Probability: {prob}')"
      ],
      "metadata": {
        "colab": {
          "base_uri": "https://localhost:8080/"
        },
        "id": "t7YBzag1cVX9",
        "outputId": "b59109ca-f822-4722-c93c-bc13bc966201"
      },
      "execution_count": null,
      "outputs": [
        {
          "output_type": "stream",
          "name": "stdout",
          "text": [
            "{\n",
            "  \"text_offset\": [\n",
            "    16\n",
            "  ],\n",
            "  \"token_logprobs\": [\n",
            "    -0.9235233\n",
            "  ],\n",
            "  \"tokens\": [\n",
            "    \" there\"\n",
            "  ],\n",
            "  \"top_logprobs\": [\n",
            "    {\n",
            "      \"\\n\": -1.1671022,\n",
            "      \" a\": -5.8914065,\n",
            "      \" in\": -4.347084,\n",
            "      \" there\": -0.9235233,\n",
            "      \",\": -1.3568397\n",
            "    }\n",
            "  ]\n",
            "}\n"
          ]
        }
      ]
    }
  ]
}